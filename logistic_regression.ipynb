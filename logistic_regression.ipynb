{
  "nbformat": 4,
  "nbformat_minor": 0,
  "metadata": {
    "colab": {
      "provenance": []
    },
    "kernelspec": {
      "name": "python3",
      "display_name": "Python 3"
    },
    "language_info": {
      "name": "python"
    }
  },
  "cells": [
    {
      "cell_type": "code",
      "execution_count": null,
      "metadata": {
        "id": "evw_h86UBW58",
        "collapsed": true
      },
      "outputs": [],
      "source": [
        "import pandas as pd\n",
        "import numpy as np\n",
        "import matplotlib.pyplot as plt\n",
        "from sklearn.preprocessing import LabelEncoder, StandardScaler\n",
        "from pandas.plotting import scatter_matrix\n",
        "from sklearn.model_selection import train_test_split\n",
        "from sklearn.linear_model import LogisticRegression, Perceptron\n",
        "from sklearn.metrics import accuracy_score, confusion_matrix, precision_score, recall_score, f1_score\n",
        "from sklearn.model_selection import KFold, cross_val_score\n",
        "from sklearn.neighbors import KNeighborsClassifier\n",
        "import pickle\n",
        "\n",
        "\n",
        "\n",
        "df = pd.read_csv('car_insurance.csv')"
      ]
    },
    {
      "cell_type": "code",
      "source": [
        "# Données manquantes (NaN)\n",
        "print(df.sum())\n",
        "df['credit_score'] = df['credit_score'].fillna(df['credit_score'].mean())\n",
        "df['annual_mileage'] = df['annual_mileage'].fillna(df['annual_mileage'].mean())\n",
        "df.isna().sum()"
      ],
      "metadata": {
        "colab": {
          "base_uri": "https://localhost:8080/"
        },
        "id": "X9_IibRNDgyp",
        "outputId": "d28148cb-c140-4489-f6a4-72425908e998",
        "collapsed": true
      },
      "execution_count": null,
      "outputs": [
        {
          "output_type": "stream",
          "name": "stdout",
          "text": [
            "id                                                            5005219068\n",
            "age                                                                14895\n",
            "gender                                                              4990\n",
            "driving_experience     0-9y0-9y0-9y0-9y10-19y20-29y30y+0-9y20-29y0-9y...\n",
            "education              high schoolnonehigh schooluniversitynonehigh s...\n",
            "income                 upper classpovertyworking classworking classwo...\n",
            "credit_score                                                 4651.599917\n",
            "vehicle_ownership                                                 6970.0\n",
            "vehicle_year           after 2015before 2015before 2015before 2015bef...\n",
            "married                                                           4983.0\n",
            "children                                                          7086.0\n",
            "postal_code                                                    198645484\n",
            "annual_mileage                                               105776000.0\n",
            "vehicle_type           sedansedansedansedansedansedansedansedansedans...\n",
            "speeding_violations                                                77875\n",
            "duis                                                                2392\n",
            "past_accidents                                                     10563\n",
            "outcome                                                           3133.0\n",
            "dtype: object\n"
          ]
        },
        {
          "output_type": "execute_result",
          "data": {
            "text/plain": [
              "id                     0\n",
              "age                    0\n",
              "gender                 0\n",
              "driving_experience     0\n",
              "education              0\n",
              "income                 0\n",
              "credit_score           0\n",
              "vehicle_ownership      0\n",
              "vehicle_year           0\n",
              "married                0\n",
              "children               0\n",
              "postal_code            0\n",
              "annual_mileage         0\n",
              "vehicle_type           0\n",
              "speeding_violations    0\n",
              "duis                   0\n",
              "past_accidents         0\n",
              "outcome                0\n",
              "dtype: int64"
            ]
          },
          "metadata": {},
          "execution_count": 172
        }
      ]
    },
    {
      "cell_type": "code",
      "source": [
        "# Données aberrantes\n",
        "df['children'].unique()\n",
        "print(df[\"id\"].nunique()) #On vérifie que les id sont bien uniques\n",
        "# On voit que certaines ont 24, 72 ou 103 enfants. Les autres ont 0 ou 1 enfant.\n",
        "# Pour cette raison, nous pensons que cette donnée ne correspond pas au nombre d'enfants par personne mais à leur possession d'enfant (valeur booléene)\n",
        "# Comme 24, 72 et 103 sont supérieurs à 1, nous remplaçons les 3 valeurs par 1.\n",
        "df['children'] = df['children'].replace([24, 72, 103], 1)\n",
        "df['children'].unique()\n",
        "\n",
        "df['speeding_violations'].unique()\n",
        "df['speeding_violations'] = df['speeding_violations'].replace([6743, 345, 2867, 41056, 12035], df['speeding_violations'].median())\n",
        "df['speeding_violations'].unique()\n",
        "\n"
      ],
      "metadata": {
        "id": "Ddf3RCUBKcpE",
        "colab": {
          "base_uri": "https://localhost:8080/"
        },
        "outputId": "f984ec10-dc22-41d4-ac57-d5474c743011",
        "collapsed": true
      },
      "execution_count": null,
      "outputs": [
        {
          "output_type": "stream",
          "name": "stdout",
          "text": [
            "10000\n"
          ]
        },
        {
          "output_type": "execute_result",
          "data": {
            "text/plain": [
              "array([ 0,  2,  3,  7,  6,  4, 10, 13,  1,  5,  9,  8, 12, 11, 15, 17, 19,\n",
              "       18, 16, 14, 22])"
            ]
          },
          "metadata": {},
          "execution_count": 173
        }
      ]
    },
    {
      "cell_type": "code",
      "source": [
        "# Transformation des variables qualitatives en variables numériques :\n",
        "# Changement en booléens\n",
        "df['vehicle_year'] = df['vehicle_year'].replace([\"after 2015\"], 1)\n",
        "df['vehicle_year'] = df['vehicle_year'].replace([\"before 2015\"], 0)\n",
        "\n",
        "df['vehicle_type'] = df['vehicle_type'].replace([\"sedan\"], 1)\n",
        "df['vehicle_type'] = df['vehicle_type'].replace([\"sports car\"], 0)\n",
        "\n",
        "le = LabelEncoder()\n",
        "#Encodage des chaînes de caractères\n",
        "\n",
        "df['driving_experience'] = le.fit_transform(df['driving_experience'])\n",
        "df['education'] = le.fit_transform(df['education'])\n",
        "df['income'] = le.fit_transform(df['income'])\n",
        "df['postal_code'] = le.fit_transform(df['postal_code'])\n",
        "\n",
        "\n",
        "X = df.iloc[:, :-1]\n",
        "y = df.iloc[:, -1]\n"
      ],
      "metadata": {
        "id": "resbVTajRQpr",
        "collapsed": true
      },
      "execution_count": null,
      "outputs": []
    },
    {
      "cell_type": "code",
      "source": [
        "df['outcome'].unique()"
      ],
      "metadata": {
        "colab": {
          "base_uri": "https://localhost:8080/"
        },
        "id": "oOxs-yLhUeW2",
        "outputId": "1ab3b1ec-31d9-4b43-b0ad-8ffa603905e8"
      },
      "execution_count": null,
      "outputs": [
        {
          "output_type": "execute_result",
          "data": {
            "text/plain": [
              "array([0., 1.])"
            ]
          },
          "metadata": {},
          "execution_count": 175
        }
      ]
    },
    {
      "cell_type": "code",
      "source": [
        "# Normalisation des données\n",
        "scaler = StandardScaler()\n",
        "X = scaler.fit_transform(X)\n",
        "\n",
        "print(X)\n",
        "\n",
        "# Convertir les données normalisées en DataFrame pandas\n",
        "#df = pd.DataFrame(normalized_data, columns=df.columns)"
      ],
      "metadata": {
        "id": "LvQki4ICQlr7",
        "colab": {
          "base_uri": "https://localhost:8080/"
        },
        "collapsed": true,
        "outputId": "86417ab7-a3f1-4dd6-f56a-f25115ac3043"
      },
      "execution_count": null,
      "outputs": [
        {
          "output_type": "stream",
          "name": "stdout",
          "text": [
            "[[ 0.23791111  1.4733327  -0.998002   ... -0.66146157 -0.43102013\n",
            "  -0.63926317]\n",
            " [ 0.86147958 -1.45284943  1.002002   ... -0.66146157 -0.43102013\n",
            "  -0.63926317]\n",
            " [-1.03656567 -1.45284943 -0.998002   ... -0.66146157 -0.43102013\n",
            "  -0.63926317]\n",
            " ...\n",
            " [-0.11072795 -0.47745538  1.002002   ... -0.66146157 -0.43102013\n",
            "  -0.63926317]\n",
            " [ 1.38936032 -0.47745538 -0.998002   ...  0.23065734 -0.43102013\n",
            "  -0.03407225]\n",
            " [-0.19938849 -0.47745538 -0.998002   ... -0.66146157 -0.43102013\n",
            "  -0.63926317]]\n"
          ]
        }
      ]
    },
    {
      "cell_type": "code",
      "source": [
        "# Recherche de corrélations\n",
        "correlation_matrix = df.corr()\n",
        "print(correlation_matrix)"
      ],
      "metadata": {
        "id": "l47yUwd2Wimm",
        "collapsed": true,
        "colab": {
          "base_uri": "https://localhost:8080/"
        },
        "outputId": "e7081b8d-b60d-4c90-d172-ccf810cabd24"
      },
      "execution_count": null,
      "outputs": [
        {
          "output_type": "stream",
          "name": "stdout",
          "text": [
            "                           id       age    gender  driving_experience  \\\n",
            "id                   1.000000  0.013512 -0.007343            0.004298   \n",
            "age                  0.013512  1.000000  0.005929            0.707393   \n",
            "gender              -0.007343  0.005929  1.000000            0.007511   \n",
            "driving_experience   0.004298  0.707393  0.007511            1.000000   \n",
            "education           -0.008880  0.153339  0.082831            0.094116   \n",
            "income              -0.006655  0.145340  0.012226            0.086181   \n",
            "credit_score         0.001621  0.471419 -0.077478            0.327672   \n",
            "vehicle_ownership    0.009197  0.272140  0.007385            0.202788   \n",
            "vehicle_year        -0.003281  0.235390  0.010674            0.164915   \n",
            "married              0.014797  0.384468  0.008593            0.269726   \n",
            "children             0.000921  0.383148 -0.002640            0.277128   \n",
            "postal_code          0.007275  0.008454 -0.002093            0.006297   \n",
            "annual_mileage      -0.002111 -0.263838 -0.015068           -0.178353   \n",
            "vehicle_type        -0.006243  0.008463  0.000022            0.008554   \n",
            "speeding_violations  0.008156  0.458413  0.202095            0.637306   \n",
            "duis                 0.009268  0.281937  0.094202            0.399398   \n",
            "past_accidents       0.001831  0.431061  0.223202            0.604699   \n",
            "outcome             -0.010506 -0.448463  0.107208           -0.497431   \n",
            "\n",
            "                     education    income  credit_score  vehicle_ownership  \\\n",
            "id                   -0.008880 -0.006655      0.001621           0.009197   \n",
            "age                   0.153339  0.145340      0.471419           0.272140   \n",
            "gender                0.082831  0.012226     -0.077478           0.007385   \n",
            "driving_experience    0.094116  0.086181      0.327672           0.202788   \n",
            "education             1.000000  0.079765      0.202505           0.121432   \n",
            "income                0.079765  1.000000      0.087576           0.046080   \n",
            "credit_score          0.202505  0.087576      1.000000           0.295689   \n",
            "vehicle_ownership     0.121432  0.046080      0.295689           1.000000   \n",
            "vehicle_year          0.113857  0.071399      0.254574           0.158579   \n",
            "married               0.105268  0.060823      0.266605           0.175322   \n",
            "children              0.074691  0.046814      0.208501           0.125356   \n",
            "postal_code           0.013008  0.019519      0.004112          -0.002241   \n",
            "annual_mileage       -0.076280 -0.050977     -0.157641          -0.092701   \n",
            "vehicle_type         -0.000482  0.012181      0.013141          -0.005647   \n",
            "speeding_violations   0.081562  0.061603      0.194645           0.133868   \n",
            "duis                  0.056286  0.051878      0.120953           0.086567   \n",
            "past_accidents        0.067320  0.050460      0.172077           0.119521   \n",
            "outcome              -0.092643 -0.047560     -0.309010          -0.378921   \n",
            "\n",
            "                     vehicle_year   married  children  postal_code  \\\n",
            "id                      -0.003281  0.014797  0.000921     0.007275   \n",
            "age                      0.235390  0.384468  0.383148     0.008454   \n",
            "gender                   0.010674  0.008593 -0.002640    -0.002093   \n",
            "driving_experience       0.164915  0.269726  0.277128     0.006297   \n",
            "education                0.113857  0.105268  0.074691     0.013008   \n",
            "income                   0.071399  0.060823  0.046814     0.019519   \n",
            "credit_score             0.254574  0.266605  0.208501     0.004112   \n",
            "vehicle_ownership        0.158579  0.175322  0.125356    -0.002241   \n",
            "vehicle_year             1.000000  0.129505  0.104922    -0.000562   \n",
            "married                  0.129505  1.000000  0.286763     0.007767   \n",
            "children                 0.104922  0.286763  1.000000     0.023548   \n",
            "postal_code             -0.000562  0.007767  0.023548     1.000000   \n",
            "annual_mileage          -0.073713 -0.439348 -0.425275    -0.242870   \n",
            "vehicle_type             0.025185 -0.006861  0.008771     0.000134   \n",
            "speeding_violations      0.102700  0.218723  0.220168     0.221165   \n",
            "duis                     0.049981  0.120754  0.115189     0.091645   \n",
            "past_accidents           0.097587  0.215141  0.206056    -0.141547   \n",
            "outcome                 -0.294178 -0.261807 -0.232237     0.116417   \n",
            "\n",
            "                     annual_mileage  vehicle_type  speeding_violations  \\\n",
            "id                        -0.002111     -0.006243             0.008156   \n",
            "age                       -0.263838      0.008463             0.458413   \n",
            "gender                    -0.015068      0.000022             0.202095   \n",
            "driving_experience        -0.178353      0.008554             0.637306   \n",
            "education                 -0.076280     -0.000482             0.081562   \n",
            "income                    -0.050977      0.012181             0.061603   \n",
            "credit_score              -0.157641      0.013141             0.194645   \n",
            "vehicle_ownership         -0.092701     -0.005647             0.133868   \n",
            "vehicle_year              -0.073713      0.025185             0.102700   \n",
            "married                   -0.439348     -0.006861             0.218723   \n",
            "children                  -0.425275      0.008771             0.220168   \n",
            "postal_code               -0.242870      0.000134             0.221165   \n",
            "annual_mileage             1.000000      0.010013            -0.308125   \n",
            "vehicle_type               0.010013      1.000000            -0.001812   \n",
            "speeding_violations       -0.308125     -0.001812             1.000000   \n",
            "duis                      -0.111232      0.005156             0.359838   \n",
            "past_accidents            -0.187180      0.013305             0.443074   \n",
            "outcome                    0.177575     -0.005620            -0.291862   \n",
            "\n",
            "                         duis  past_accidents   outcome  \n",
            "id                   0.009268        0.001831 -0.010506  \n",
            "age                  0.281937        0.431061 -0.448463  \n",
            "gender               0.094202        0.223202  0.107208  \n",
            "driving_experience   0.399398        0.604699 -0.497431  \n",
            "education            0.056286        0.067320 -0.092643  \n",
            "income               0.051878        0.050460 -0.047560  \n",
            "credit_score         0.120953        0.172077 -0.309010  \n",
            "vehicle_ownership    0.086567        0.119521 -0.378921  \n",
            "vehicle_year         0.049981        0.097587 -0.294178  \n",
            "married              0.120754        0.215141 -0.261807  \n",
            "children             0.115189        0.206056 -0.232237  \n",
            "postal_code          0.091645       -0.141547  0.116417  \n",
            "annual_mileage      -0.111232       -0.187180  0.177575  \n",
            "vehicle_type         0.005156        0.013305 -0.005620  \n",
            "speeding_violations  0.359838        0.443074 -0.291862  \n",
            "duis                 1.000000        0.259359 -0.189352  \n",
            "past_accidents       0.259359        1.000000 -0.311495  \n",
            "outcome             -0.189352       -0.311495  1.000000  \n"
          ]
        }
      ]
    },
    {
      "cell_type": "markdown",
      "source": [
        "##Signification des coefficients de corrélation :\n",
        "\n",
        "Les coefficients de corrélation varient entre -1 et 1.\n",
        "Un coefficient proche de 1 indique une forte corrélation positive entre les variables.\n",
        "Un coefficient proche de -1 indique une forte corrélation négative entre les variables.\n",
        "Un coefficient proche de 0 indique une faible corrélation linéaire entre les variables.\n",
        "\n",
        "\n",
        "Variables les plus corrélées entre elles :\n",
        "On peut observer des coefficients de corrélation élevés entre certaines paires de variables, par exemple 0.707 entre age et driving_experience, 0.471 entre age et credit_score, et 0.637 entre driving_experience et speeding_violations.\n",
        "\n",
        "Variables les plus corrélées avec la variable de sortie (outcome) :\n",
        "Les coefficients de corrélation entre age et outcome, driving_experience et outcome, ainsi que past_accidents et outcome sont significatifs, respectivement -0.448, -0.497 et -0.311.\n",
        "\n",
        "Variables les plus pertinentes pour la classification :\n",
        "Les variables ayant une corrélation élevée avec la variable de sortie (outcome), telles que age, driving_experience et past_accidents, pourraient être les plus utiles pour la classification.\n"
      ],
      "metadata": {
        "id": "Edl9QbFroVG9"
      }
    },
    {
      "cell_type": "code",
      "source": [
        "print(df[\"age\"].unique())\n",
        "\n",
        "matrice1 = [\"age\",\"driving_experience\", \"past_accidents\",\"outcome\"]\n",
        "\n",
        "scatter_matrix(df[matrice1], figsize=(5,5))"
      ],
      "metadata": {
        "id": "a2HuwQEioxbY",
        "colab": {
          "base_uri": "https://localhost:8080/",
          "height": 760
        },
        "outputId": "c2887be1-97cf-4c82-d58d-636902d0a3b4"
      },
      "execution_count": null,
      "outputs": [
        {
          "output_type": "stream",
          "name": "stdout",
          "text": [
            "[3 0 1 2]\n"
          ]
        },
        {
          "output_type": "execute_result",
          "data": {
            "text/plain": [
              "array([[<Axes: xlabel='age', ylabel='age'>,\n",
              "        <Axes: xlabel='driving_experience', ylabel='age'>,\n",
              "        <Axes: xlabel='past_accidents', ylabel='age'>,\n",
              "        <Axes: xlabel='outcome', ylabel='age'>],\n",
              "       [<Axes: xlabel='age', ylabel='driving_experience'>,\n",
              "        <Axes: xlabel='driving_experience', ylabel='driving_experience'>,\n",
              "        <Axes: xlabel='past_accidents', ylabel='driving_experience'>,\n",
              "        <Axes: xlabel='outcome', ylabel='driving_experience'>],\n",
              "       [<Axes: xlabel='age', ylabel='past_accidents'>,\n",
              "        <Axes: xlabel='driving_experience', ylabel='past_accidents'>,\n",
              "        <Axes: xlabel='past_accidents', ylabel='past_accidents'>,\n",
              "        <Axes: xlabel='outcome', ylabel='past_accidents'>],\n",
              "       [<Axes: xlabel='age', ylabel='outcome'>,\n",
              "        <Axes: xlabel='driving_experience', ylabel='outcome'>,\n",
              "        <Axes: xlabel='past_accidents', ylabel='outcome'>,\n",
              "        <Axes: xlabel='outcome', ylabel='outcome'>]], dtype=object)"
            ]
          },
          "metadata": {},
          "execution_count": 178
        },
        {
          "output_type": "display_data",
          "data": {
            "text/plain": [
              "<Figure size 500x500 with 16 Axes>"
            ],
            "image/png": "[encoded data removed]"
          },
          "metadata": {}
        }
      ]
    },
    {
      "cell_type": "markdown",
      "source": [
        "##Analyse des matrices de nuages de points\n",
        "\n",
        "Les 4 variables sont camparées dans des matrices deux à deux. On s'intéresse aux matrices contenues dans le triangle en bas à gauche.\n",
        "Sur la diagonale, on retrouve les histogrammes des dispersions des valeurs pour chaque variable</br></br>\n",
        "\n",
        "###Age et Driving Experience:\n",
        "Il semble y avoir une répartition uniforme des catégories d'âge sur différents niveaux d'expérience de conduite.\n",
        "On retrouve de tous les âges dans les personnes inexpérimentées, mais les personnes très expérimentées (+30ans) ont toutes plus de 65 ans.\n",
        "Ainsi, plus on acquiert de l'expérience de conduite, plus on vieillit.</br></br>\n",
        "\n",
        "###Age et Past Accidents:\n",
        "La distribution des \"past_accidents\" par rapport à \"age\" semble montrer que certaines catégories d'âge ont plus d'accidents passés.\n",
        "Les points montrent que les personnes ayant plus d'accidents passés sont les plus âgées. Toutefois, il est possible de ne pas avoir d'accident passé peu importe l'âge.</br></br>\n",
        "\n",
        "###Age et Outcome:\n",
        "La relation entre \"age\" et \"outcome\" montre que certaines catégories d'âge ont des résultats différents en termes de \"outcome\". Le nombre de outcome paraît être uniforme sans regard de l'âge</br></br>\n",
        "\n",
        "\n",
        "###Driving Experience et Past Accidents:\n",
        "Cette relation montre comment l'expérience de conduite affecte le nombre d'accidents passés. Certaines catégories d'expérience de conduite semblent avoir des fréquences d'accidents différentes. Plus l'expérience de conduite est élevée, plus il y a de personnes avec beaucoup d'accidents passés.</br></br>\n",
        "\n",
        "###Driving Experience et Outcome:\n",
        "La relation entre \"driving_experience\" et \"outcome\" montre que certaines catégories d'expérience de conduite ont des résultats différents.Le nombre de outcome paraît être uniforme sans regard de l'expérience de conduite.</br></br>\n",
        "\n",
        "\n",
        "Past Accidents et Outcome:\n",
        "Cette relation montre comment le nombre d'accidents passés affecte l'issue (\"outcome\").\n",
        "Les points montrent que plus une personne a d'accident, moins elle fait de demande d'indemnisation auprès de son assurance automobile. Ce critère est donc intéressant pour notre problème. </br></br>"
      ],
      "metadata": {
        "id": "KlRcNky5oQqy"
      }
    },
    {
      "cell_type": "code",
      "source": [
        "# Extraction des jeux d’apprentissage et de test\n",
        "X_train, X_test, y_train, y_test = train_test_split(X, y, random_state=42) #Nous avons spécifié random_state pour de garder la même découpe, afin que l'analyse des résultats portent sur des constantes.\n",
        "print(X_train.shape)\n",
        "print(X_test.shape)"
      ],
      "metadata": {
        "id": "YqfA9u7zmHjx",
        "collapsed": true,
        "colab": {
          "base_uri": "https://localhost:8080/"
        },
        "outputId": "a6b61f53-ccd9-48fa-8662-7ecc5960d440"
      },
      "execution_count": null,
      "outputs": [
        {
          "output_type": "stream",
          "name": "stdout",
          "text": [
            "(7500, 17)\n",
            "(2500, 17)\n"
          ]
        }
      ]
    },
    {
      "cell_type": "markdown",
      "source": [
        "Le jeu d'apprentissage: 75% <br>\n",
        "Le jeu de test: 25%\n"
      ],
      "metadata": {
        "id": "WG71Icrfqn5G"
      }
    },
    {
      "cell_type": "code",
      "source": [
        "# Entraînement d’un modèle\n",
        "\n",
        "# Créer un modèle de régression logistique\n",
        "model = LogisticRegression()\n",
        "\n",
        "# Entraîner le modèle sur les données d'entraînement\n",
        "model.fit(X_train, y_train)\n",
        "\n",
        "# Prédire les étiquettes pour les données de test\n",
        "y_pred = model.predict(X_test)"
      ],
      "metadata": {
        "id": "nPL_IrHOMHMY"
      },
      "execution_count": null,
      "outputs": []
    },
    {
      "cell_type": "markdown",
      "source": [
        "# 8 Entraînement d'un modèle\n",
        "\n",
        "## Hypothèse :\n",
        "Quelle hypothèse fait-on sur le logarithme du rapport des vraisemblances (appelé fonction logit) : $log(\\frac{p(y=1|x)}{p(y=0|x)})$ ?\n",
        "</br></br>\n",
        "\n",
        "L'hypothèse principale faite sur le $log$ est qu'il est égal à un produit scalaire de $\\vec{w}$ et de $\\vec{x}$, plus une constante $β_{0}$.</br>\n",
        "$\\vec{w}$ correspond au vecteur formé par les paramètres $β$ du modèle à estimer.</br>\n",
        "$\\vec{x}$ correspond au vecteur formé par les features du jeu de données (ou variables explicatives).</br>\n",
        "$β_{0}$ est également un paramètre du modèle à estimer.</br>\n",
        "Les features doivent toutes être des variables continues ou binaires."
      ],
      "metadata": {
        "id": "OXdH5LFTMaoO"
      }
    },
    {
      "cell_type": "markdown",
      "source": [
        "### Minimisation de la fonction de coût :\n",
        "\n",
        " Quelle technique l’algorithme peut-il utiliser pour minimiser la fonction de coût ?</br></br>\n",
        "\n",
        "La technique de la descente de gradient permet à l'algorithme de réduire la fonction de coût.\n"
      ],
      "metadata": {
        "id": "7Ks1eoN2RYTa"
      }
    },
    {
      "cell_type": "markdown",
      "source": [
        "## Apprentissage\n",
        "\n",
        "Quels paramètres sont calculés pendant la phase d’apprentissage de l’algorithme ?</br></br>\n",
        "\n",
        "Durant l'apprentissage, les coefficients $β$ (ou poids), ainsi que le biais $β_{0}$ sont calculés."
      ],
      "metadata": {
        "id": "iqEeuwvFU7Kh"
      }
    },
    {
      "cell_type": "code",
      "source": [
        "# Evaluation du modèle\n",
        "\n",
        "accuracy = accuracy_score(y_test, y_pred)\n",
        "print(f'Accuracy: {accuracy}')\n",
        "\n",
        "confusion = confusion_matrix(y_test, y_pred)\n",
        "print(f'Confusion: \\n{confusion}')\n",
        "\n",
        "precision = precision_score(y_test, y_pred)\n",
        "print(f'Precision: {precision}')\n",
        "\n",
        "recall = recall_score(y_test, y_pred)\n",
        "print(f'Recall: {recall}')\n",
        "\n",
        "f1 = f1_score(y_test, y_pred)\n",
        "print(f'F1 score: {f1}')"
      ],
      "metadata": {
        "colab": {
          "base_uri": "https://localhost:8080/"
        },
        "id": "tbsldi0haxrx",
        "outputId": "a483bed8-e54b-4bd5-be86-c776f7e30c24"
      },
      "execution_count": null,
      "outputs": [
        {
          "output_type": "stream",
          "name": "stdout",
          "text": [
            "Accuracy: 0.8424\n",
            "Confusion: \n",
            "[[1559  164]\n",
            " [ 230  547]]\n",
            "Precision: 0.7693389592123769\n",
            "Recall: 0.703989703989704\n",
            "F1 score: 0.7352150537634409\n"
          ]
        }
      ]
    },
    {
      "cell_type": "markdown",
      "source": [
        "## Signification des métriques\n",
        "\n",
        "### Accuracy\n",
        "Formule : ( 𝑇 𝑃 + 𝑇 𝑁 ) / ( 𝑇 𝑃 + 𝑇 𝑁 + 𝐹 𝑃 + 𝐹 𝑁 )</br>\n",
        "Signification : La proportion des prédictions correctes parmi toutes les prédictions. Ici, 84,24% des prédicitions du modèle sur le jeu de test étaient correctes.\n",
        "</br></br>\n",
        "\n",
        "### Confusion Matrix (Matrice de confusion)\n",
        "1564 True Negatives : Le modèle a correctement identifié 1564 clients qui n'ont pas fait de demande d'indemnisation. </br>\n",
        "160 False Positives : Le modèle a incorrectement identifié 160 clients  qui ont fait de demande d'indemnisation alors qu'ils n'en ont pas fait.</br>\n",
        "218 False Negatives : Le modèle a incorrectement identifié 218 clients  qui n'ont pas fait de demande d'indemnisation alors qu'ils en ont fait une.</br>\n",
        "558 True Positives : Le modèle a correctement identifié 558 clients  qui ont fait de demande d'indemnisation.\n",
        "</br></br>\n",
        "\n",
        "### Precision\n",
        "Formule : 𝑇𝑃/(𝑇𝑃+𝐹𝑃)</br>\n",
        "Signification : La proportion des prédictions positives correctes parmi toutes les prédictions positives. Indique la qualité des prédictions positives du modèle.</br>\n",
        "Résultas : Cela signifie que 76.93% des prédictions positives du modèle sont correctes. C'est une bonne indication que la majorité des prédictions positives sont fiables.\n",
        "</br></br>\n",
        "\n",
        "### Recall\n",
        "Formule : 𝑇 𝑃 / ( 𝑇 𝑃 + 𝐹 𝑁 )</br>\n",
        "Signification : La proportion des véritables positifs qui ont été correctement identifiés par le modèle. Indique la capacité du modèle à trouver toutes les instances positives.</br>\n",
        "Résultats: Cela signifie que le modèle a identifié 71.91% des instances positives réelles. Le rappel étant plus bas que la précision indique que le modèle rate encore des instances positives.\n",
        "</br></br>\n",
        "\n",
        "\n",
        "### F1 Score\n",
        "Formule : $2×(precision×recall)/(precision+recall)$</br>\n",
        "\n",
        "Signification : La moyenne harmonique de la précision et du rappel. Elle est utile pour évaluer le modèle lorsqu'il y a un déséquilibre entre les classes.</Br>\n",
        "Résultats : Le F1 score combine la précision et le rappel, offrant un équilibre entre les deux. Un F1 score de 74.70% indique que le modèle a une performance raisonnablement bonne en termes de précision et de rappel.\n"
      ],
      "metadata": {
        "id": "YYq-dyv5dTpR"
      }
    },
    {
      "cell_type": "code",
      "source": [
        "# Amélioration de l'évaluation\n",
        "\n",
        "kfold = KFold(n_splits=5, shuffle=True, random_state=42)\n",
        "\n",
        "scores = cross_val_score(model, X, y, cv=kfold, scoring='accuracy')\n",
        "\n",
        "print(f'Cross-validation scores: {scores}')\n",
        "print(f'Score moyen: {scores.mean()}')\n",
        "print(f'Ancienne accuracy : {accuracy}')\n",
        "\n",
        "# On constate que l'accuracy moyenne est plus haute que l'ancienne accuracy."
      ],
      "metadata": {
        "id": "naQu_mR6iZ5m",
        "colab": {
          "base_uri": "https://localhost:8080/"
        },
        "outputId": "d7613749-85cd-451b-c916-e3c6edeeca17"
      },
      "execution_count": null,
      "outputs": [
        {
          "output_type": "stream",
          "name": "stdout",
          "text": [
            "Cross-validation scores: [0.8425 0.8405 0.851  0.845  0.8475]\n",
            "Score moyen: 0.8452999999999999\n",
            "Ancienne accuracy : 0.8424\n"
          ]
        }
      ]
    },
    {
      "cell_type": "code",
      "source": [
        "# Comparaison avec d’autres algorithmes\n",
        "\n",
        "lr = LogisticRegression()\n",
        "ppn = Perceptron()\n",
        "knn = KNeighborsClassifier()\n",
        "classifiers = [lr,ppn,knn]\n",
        "\n",
        "# Évaluation des classifieurs par validation croisée\n",
        "for clf in classifiers:\n",
        "    scores = cross_val_score(clf, X_train, y_train, cv=5, scoring='accuracy')\n",
        "    print(f\"{clf} Cross-Validation Accuracy Scores: {scores}\")\n",
        "    print(f\"{clf} Mean Accuracy: {scores.mean()}\\n\")\n",
        "\n",
        "# On constate que la régression logistique possède les meilleurs scores en tous points."
      ],
      "metadata": {
        "colab": {
          "base_uri": "https://localhost:8080/"
        },
        "id": "rORkRJLvl5M7",
        "outputId": "8d3c15b3-3c63-4cb2-b0cd-0f47f22afa34"
      },
      "execution_count": null,
      "outputs": [
        {
          "output_type": "stream",
          "name": "stdout",
          "text": [
            "LogisticRegression() Cross-Validation Accuracy Scores: [0.83533333 0.84333333 0.85466667 0.83866667 0.85      ]\n",
            "LogisticRegression() Mean Accuracy: 0.8443999999999999\n",
            "\n",
            "Perceptron() Cross-Validation Accuracy Scores: [0.77466667 0.72333333 0.82666667 0.794      0.79666667]\n",
            "Perceptron() Mean Accuracy: 0.7830666666666666\n",
            "\n",
            "KNeighborsClassifier() Cross-Validation Accuracy Scores: [0.80266667 0.808      0.81733333 0.79466667 0.79733333]\n",
            "KNeighborsClassifier() Mean Accuracy: 0.8039999999999999\n",
            "\n"
          ]
        }
      ]
    },
    {
      "cell_type": "code",
      "source": [
        "# Sauvgarde du modèle\n",
        "\n",
        "model_filename = 'modelLogisticRegression.pickle'\n",
        "\n",
        "with open(model_filename, 'wb') as file:\n",
        "    pickle.dump(model, file)\n",
        "\n",
        "# Chargement du modèle\n",
        "\n",
        "with open(model_filename, 'rb') as file:\n",
        "    loaded_model = pickle.load(file)\n",
        "\n",
        "# Test du chargement\n",
        "\n",
        "print(f\"Accuracy moyenne du modèle importé : {cross_val_score(loaded_model, X, y, cv=5, scoring='accuracy').mean()}\")"
      ],
      "metadata": {
        "colab": {
          "base_uri": "https://localhost:8080/"
        },
        "id": "DZXgeJLYpCL_",
        "outputId": "b86c2405-5ed7-4ee0-bb26-fbb0b371b0f2"
      },
      "execution_count": null,
      "outputs": [
        {
          "output_type": "stream",
          "name": "stdout",
          "text": [
            "Accuracy moyenne du modèle importé : 0.8447000000000001\n"
          ]
        }
      ]
    }
  ]
}